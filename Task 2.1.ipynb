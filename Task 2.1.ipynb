{
 "cells": [
  {
   "cell_type": "markdown",
   "id": "2455791f-9ab1-4d27-ad3c-998ba29fa11e",
   "metadata": {},
   "source": [
    "**Task 2:**\n",
    "Use this example - https://machinelearningmastery.com/develop-your-first-neural-network-with-pytorch-step-by-step/ to understand pytorch NNs. Augment the dataset by perturbing the data fields with gaussian noise. Train/test/validate. Take a screencast walkthrough of the full code, including your understanding of how the NN is implemented."
   ]
  },
  {
   "cell_type": "code",
   "execution_count": 1,
   "id": "13d45d5d-0b6f-4089-8d62-9f82425160b7",
   "metadata": {},
   "outputs": [],
   "source": [
    "import numpy as np\n",
    "import pandas as pd\n",
    "import torch\n",
    "import torch.nn as nn\n",
    "import torch.nn.functional as F\n",
    "from sklearn.model_selection import train_test_split\n",
    "from torch import optim\n",
    "import matplotlib.pyplot as plt\n",
    "import seaborn as sns\n",
    "from sklearn.metrics import confusion_matrix"
   ]
  },
  {
   "cell_type": "code",
   "execution_count": 46,
   "id": "baff804a-6b10-4a4f-be7b-4a5d8366d961",
   "metadata": {},
   "outputs": [],
   "source": [
    "#load the dataset as a numpy array\n",
    "dataset = np.loadtxt(\"C:/Jupyter Notebooks/pima-indians-diabetes.csv.txt\", delimiter=',')"
   ]
  },
  {
   "cell_type": "code",
   "execution_count": 43,
   "id": "2e4bce15-bf03-48ae-8691-aea63b845e45",
   "metadata": {},
   "outputs": [
    {
     "data": {
      "text/html": [
       "<div>\n",
       "<style scoped>\n",
       "    .dataframe tbody tr th:only-of-type {\n",
       "        vertical-align: middle;\n",
       "    }\n",
       "\n",
       "    .dataframe tbody tr th {\n",
       "        vertical-align: top;\n",
       "    }\n",
       "\n",
       "    .dataframe thead th {\n",
       "        text-align: right;\n",
       "    }\n",
       "</style>\n",
       "<table border=\"1\" class=\"dataframe\">\n",
       "  <thead>\n",
       "    <tr style=\"text-align: right;\">\n",
       "      <th></th>\n",
       "      <th>Pregnancies</th>\n",
       "      <th>Glucose</th>\n",
       "      <th>BP</th>\n",
       "      <th>Skin thickness</th>\n",
       "      <th>Insulin</th>\n",
       "      <th>BMI</th>\n",
       "      <th>Function</th>\n",
       "      <th>Age</th>\n",
       "      <th>Outcome</th>\n",
       "    </tr>\n",
       "  </thead>\n",
       "  <tbody>\n",
       "    <tr>\n",
       "      <th>0</th>\n",
       "      <td>6.0</td>\n",
       "      <td>148.0</td>\n",
       "      <td>72.0</td>\n",
       "      <td>35.0</td>\n",
       "      <td>0.0</td>\n",
       "      <td>33.6</td>\n",
       "      <td>0.627</td>\n",
       "      <td>50.0</td>\n",
       "      <td>1.0</td>\n",
       "    </tr>\n",
       "    <tr>\n",
       "      <th>1</th>\n",
       "      <td>1.0</td>\n",
       "      <td>85.0</td>\n",
       "      <td>66.0</td>\n",
       "      <td>29.0</td>\n",
       "      <td>0.0</td>\n",
       "      <td>26.6</td>\n",
       "      <td>0.351</td>\n",
       "      <td>31.0</td>\n",
       "      <td>0.0</td>\n",
       "    </tr>\n",
       "    <tr>\n",
       "      <th>2</th>\n",
       "      <td>8.0</td>\n",
       "      <td>183.0</td>\n",
       "      <td>64.0</td>\n",
       "      <td>0.0</td>\n",
       "      <td>0.0</td>\n",
       "      <td>23.3</td>\n",
       "      <td>0.672</td>\n",
       "      <td>32.0</td>\n",
       "      <td>1.0</td>\n",
       "    </tr>\n",
       "    <tr>\n",
       "      <th>3</th>\n",
       "      <td>1.0</td>\n",
       "      <td>89.0</td>\n",
       "      <td>66.0</td>\n",
       "      <td>23.0</td>\n",
       "      <td>94.0</td>\n",
       "      <td>28.1</td>\n",
       "      <td>0.167</td>\n",
       "      <td>21.0</td>\n",
       "      <td>0.0</td>\n",
       "    </tr>\n",
       "    <tr>\n",
       "      <th>4</th>\n",
       "      <td>0.0</td>\n",
       "      <td>137.0</td>\n",
       "      <td>40.0</td>\n",
       "      <td>35.0</td>\n",
       "      <td>168.0</td>\n",
       "      <td>43.1</td>\n",
       "      <td>2.288</td>\n",
       "      <td>33.0</td>\n",
       "      <td>1.0</td>\n",
       "    </tr>\n",
       "  </tbody>\n",
       "</table>\n",
       "</div>"
      ],
      "text/plain": [
       "   Pregnancies  Glucose    BP  Skin thickness  Insulin   BMI  Function   Age  \\\n",
       "0          6.0    148.0  72.0            35.0      0.0  33.6     0.627  50.0   \n",
       "1          1.0     85.0  66.0            29.0      0.0  26.6     0.351  31.0   \n",
       "2          8.0    183.0  64.0             0.0      0.0  23.3     0.672  32.0   \n",
       "3          1.0     89.0  66.0            23.0     94.0  28.1     0.167  21.0   \n",
       "4          0.0    137.0  40.0            35.0    168.0  43.1     2.288  33.0   \n",
       "\n",
       "   Outcome  \n",
       "0      1.0  \n",
       "1      0.0  \n",
       "2      1.0  \n",
       "3      0.0  \n",
       "4      1.0  "
      ]
     },
     "execution_count": 43,
     "metadata": {},
     "output_type": "execute_result"
    }
   ],
   "source": [
    "df = pd.DataFrame(dataset, columns=['Pregnancies', 'Glucose', 'BP', 'Skin thickness', 'Insulin','BMI','Function','Age','Outcome'])\n",
    "df.head()"
   ]
  },
  {
   "cell_type": "code",
   "execution_count": 3,
   "id": "ce9ab275-42e9-4cad-9ecb-4d7bf81bd3b3",
   "metadata": {},
   "outputs": [],
   "source": [
    "X = dataset[:,0:8] #learning variables or input variables\n",
    "y = dataset[:,8]   #output variable (label)"
   ]
  },
  {
   "cell_type": "code",
   "execution_count": 4,
   "id": "71bd2303-5c88-430d-9aed-68262be10d5b",
   "metadata": {},
   "outputs": [],
   "source": [
    "#converting numpy array into tensors\n",
    "X = torch.tensor(X, dtype=torch.float32)\n",
    "y = torch.tensor(y, dtype=torch.float32).reshape(-1, 1)"
   ]
  },
  {
   "cell_type": "code",
   "execution_count": 65,
   "id": "2b7adf65-77d6-42d7-8173-57baee253cc7",
   "metadata": {},
   "outputs": [
    {
     "data": {
      "text/plain": [
       "torch.Size([621, 8])"
      ]
     },
     "execution_count": 65,
     "metadata": {},
     "output_type": "execute_result"
    }
   ],
   "source": [
    "#split data into train and test data\n",
    "X_train,X_test,y_train,y_test=train_test_split(X,y,test_size=0.1,random_state=0)\n",
    "#split train data further to train and validation data\n",
    "X_train, X_val, y_train, y_val = train_test_split(X_train, y_train, test_size=0.1, random_state=0)"
   ]
  },
  {
   "cell_type": "markdown",
   "id": "353d23b2-560d-4b03-b01f-182ae64b6431",
   "metadata": {},
   "source": [
    "**Model Class**"
   ]
  },
  {
   "cell_type": "code",
   "execution_count": 6,
   "id": "9a96314b-59c1-49e7-bd29-1e4dde54cc3d",
   "metadata": {},
   "outputs": [],
   "source": [
    "\n",
    "class PimaClassifier(nn.Module):\n",
    "    def __init__(self):\n",
    "        super().__init__()\n",
    "        self.hidden1 = nn.Linear(8, 12)\n",
    "        self.act1 = nn.ReLU()\n",
    "        self.hidden2 = nn.Linear(12, 8)\n",
    "        self.act2 = nn.ReLU()\n",
    "        self.output = nn.Linear(8, 1)\n",
    "        self.act_output = nn.Sigmoid()\n",
    " \n",
    "    def forward(self, x):\n",
    "        x = self.act1(self.hidden1(x))\n",
    "        x = self.act2(self.hidden2(x))\n",
    "        x = self.act_output(self.output(x))\n",
    "        return x"
   ]
  },
  {
   "cell_type": "markdown",
   "id": "c7125dda-4dfb-45ba-96b1-af87de9c9dee",
   "metadata": {},
   "source": [
    "**Model without Data augmentation**"
   ]
  },
  {
   "cell_type": "code",
   "execution_count": 7,
   "id": "c0d6d46c-3f65-4b18-bdce-bd4cde2317f6",
   "metadata": {},
   "outputs": [
    {
     "name": "stdout",
     "output_type": "stream",
     "text": [
      "PimaClassifier(\n",
      "  (hidden1): Linear(in_features=8, out_features=12, bias=True)\n",
      "  (act1): ReLU()\n",
      "  (hidden2): Linear(in_features=12, out_features=8, bias=True)\n",
      "  (act2): ReLU()\n",
      "  (output): Linear(in_features=8, out_features=1, bias=True)\n",
      "  (act_output): Sigmoid()\n",
      ")\n"
     ]
    }
   ],
   "source": [
    "model = PimaClassifier()\n",
    "print(model)"
   ]
  },
  {
   "cell_type": "code",
   "execution_count": 8,
   "id": "be0b91ad-7842-4897-8e39-43d226784391",
   "metadata": {},
   "outputs": [],
   "source": [
    "loss_fn = nn.BCELoss()  \n",
    "optimizer = optim.Adam(model.parameters(), lr=0.001)"
   ]
  },
  {
   "cell_type": "code",
   "execution_count": 9,
   "id": "edc24832-04ea-4799-9c7a-b1e6afd931a3",
   "metadata": {
    "scrolled": true
   },
   "outputs": [
    {
     "name": "stdout",
     "output_type": "stream",
     "text": [
      "Finished epoch 1, training loss: 0.863919341813731, validation loss: 0.6671038269996643\n",
      "Finished epoch 2, training loss: 0.6901967041734336, validation loss: 0.644127973488399\n",
      "Finished epoch 3, training loss: 0.6625878510459802, validation loss: 0.6632173657417297\n",
      "Finished epoch 4, training loss: 0.6598678266752553, validation loss: 0.6518896051815578\n",
      "Finished epoch 5, training loss: 0.651509618125676, validation loss: 0.6466614859444755\n",
      "Finished epoch 6, training loss: 0.6477963551998906, validation loss: 0.6446832162993295\n",
      "Finished epoch 7, training loss: 0.6431166204277444, validation loss: 0.6473846094948905\n",
      "Finished epoch 8, training loss: 0.6388595579327017, validation loss: 0.6499756148883274\n",
      "Finished epoch 9, training loss: 0.6342985750012544, validation loss: 0.6546053460666111\n",
      "Finished epoch 10, training loss: 0.6304646369531727, validation loss: 0.656697690486908\n",
      "Finished epoch 11, training loss: 0.6272508632541662, validation loss: 0.657471912247794\n",
      "Finished epoch 12, training loss: 0.6243655741118771, validation loss: 0.6569978679929461\n",
      "Finished epoch 13, training loss: 0.6219016050562959, validation loss: 0.6555704815047128\n",
      "Finished epoch 14, training loss: 0.6195792084538803, validation loss: 0.6535272938864571\n",
      "Finished epoch 15, training loss: 0.6172885642343481, validation loss: 0.6515788350786481\n",
      "Finished epoch 16, training loss: 0.615146134018706, validation loss: 0.6490063326699393\n",
      "Finished epoch 17, training loss: 0.6129615311653334, validation loss: 0.6462188363075256\n",
      "Finished epoch 18, training loss: 0.6107367896227445, validation loss: 0.6436385427202497\n",
      "Finished epoch 19, training loss: 0.608330339913207, validation loss: 0.6412204078265599\n",
      "Finished epoch 20, training loss: 0.6058978560274157, validation loss: 0.6398902365139553\n",
      "Finished epoch 21, training loss: 0.6035667136671462, validation loss: 0.6390622343335833\n",
      "Finished epoch 22, training loss: 0.6014856100082397, validation loss: 0.6375416176659721\n",
      "Finished epoch 23, training loss: 0.5994370469340572, validation loss: 0.6365533896854946\n",
      "Finished epoch 24, training loss: 0.5977030811102494, validation loss: 0.634868494101933\n",
      "Finished epoch 25, training loss: 0.5959114221175128, validation loss: 0.6336557609694344\n",
      "Finished epoch 26, training loss: 0.5944948549623843, validation loss: 0.6319886020251683\n",
      "Finished epoch 27, training loss: 0.592977973765989, validation loss: 0.6308296578271049\n",
      "Finished epoch 28, training loss: 0.5916007658325724, validation loss: 0.629937333720071\n",
      "Finished epoch 29, training loss: 0.5902786753027911, validation loss: 0.629129341670445\n",
      "Finished epoch 30, training loss: 0.5890132923057114, validation loss: 0.6283495937074933\n",
      "Finished epoch 31, training loss: 0.5878046345979503, validation loss: 0.6278968794005257\n",
      "Finished epoch 32, training loss: 0.5865898438505889, validation loss: 0.6274264625140599\n",
      "Finished epoch 33, training loss: 0.5855259215774168, validation loss: 0.6270245143345424\n",
      "Finished epoch 34, training loss: 0.5844037778519586, validation loss: 0.6264418193272182\n",
      "Finished epoch 35, training loss: 0.583448495361924, validation loss: 0.6254396438598633\n",
      "Finished epoch 36, training loss: 0.5823249384016999, validation loss: 0.6254827465329852\n",
      "Finished epoch 37, training loss: 0.58154913087206, validation loss: 0.6251783541270665\n",
      "Finished epoch 38, training loss: 0.5801106775824383, validation loss: 0.6251723510878426\n",
      "Finished epoch 39, training loss: 0.579577171764128, validation loss: 0.6240557432174683\n",
      "Finished epoch 40, training loss: 0.5785825715164823, validation loss: 0.6238334349223545\n",
      "Finished epoch 41, training loss: 0.5777119225349979, validation loss: 0.6233556185449872\n",
      "Finished epoch 42, training loss: 0.5769637252013656, validation loss: 0.6225932836532593\n",
      "Finished epoch 43, training loss: 0.576376173807227, validation loss: 0.622282189982278\n",
      "Finished epoch 44, training loss: 0.5756670190516301, validation loss: 0.6223622901099068\n",
      "Finished epoch 45, training loss: 0.5745414012680116, validation loss: 0.6225584319659642\n",
      "Finished epoch 46, training loss: 0.5744263908905299, validation loss: 0.6220576933452061\n",
      "Finished epoch 47, training loss: 0.5732617789036601, validation loss: 0.6227611303329468\n",
      "Finished epoch 48, training loss: 0.5729459308195806, validation loss: 0.6223740492548261\n",
      "Finished epoch 49, training loss: 0.571695860841232, validation loss: 0.622968682221004\n",
      "Finished epoch 50, training loss: 0.5716168545486463, validation loss: 0.6220819013459342\n",
      "Finished epoch 51, training loss: 0.5705484429227365, validation loss: 0.6220359972545079\n",
      "Finished epoch 52, training loss: 0.5701196278158978, validation loss: 0.6215167897088187\n",
      "Finished epoch 53, training loss: 0.5699165611259411, validation loss: 0.6206029908997672\n",
      "Finished epoch 54, training loss: 0.5688182791266081, validation loss: 0.620980441570282\n",
      "Finished epoch 55, training loss: 0.5685697227668455, validation loss: 0.6205941268375942\n",
      "Finished epoch 56, training loss: 0.5675526634698521, validation loss: 0.621081360748836\n",
      "Finished epoch 57, training loss: 0.5675108910758714, validation loss: 0.6201916422162738\n",
      "Finished epoch 58, training loss: 0.5664378542830979, validation loss: 0.6207786457879203\n",
      "Finished epoch 59, training loss: 0.5661297520193693, validation loss: 0.6202802743230548\n",
      "Finished epoch 60, training loss: 0.5652863748983484, validation loss: 0.6205758196966988\n",
      "Finished epoch 61, training loss: 0.5647585081977353, validation loss: 0.6204816273280552\n",
      "Finished epoch 62, training loss: 0.564395595671858, validation loss: 0.6199233787400382\n",
      "Finished epoch 63, training loss: 0.5633789164624544, validation loss: 0.6202396409852164\n",
      "Finished epoch 64, training loss: 0.5631549225913154, validation loss: 0.6200485144342694\n",
      "Finished epoch 65, training loss: 0.5623621149723464, validation loss: 0.6205761092049735\n",
      "Finished epoch 66, training loss: 0.5619200124448817, validation loss: 0.620236200945718\n",
      "Finished epoch 67, training loss: 0.5612422171230286, validation loss: 0.6198952623776027\n",
      "Finished epoch 68, training loss: 0.560875013542636, validation loss: 0.6198091506958008\n",
      "Finished epoch 69, training loss: 0.5603605655656345, validation loss: 0.6195801666804722\n",
      "Finished epoch 70, training loss: 0.5597991173586023, validation loss: 0.6196612119674683\n",
      "Finished epoch 71, training loss: 0.5592226475333246, validation loss: 0.6190864954675946\n",
      "Finished epoch 72, training loss: 0.558982965067005, validation loss: 0.6186384899275643\n",
      "Finished epoch 73, training loss: 0.5582496761891769, validation loss: 0.6192806788853237\n",
      "Finished epoch 74, training loss: 0.5582185051675388, validation loss: 0.6185715198516846\n",
      "Finished epoch 75, training loss: 0.5574571652496878, validation loss: 0.6191967129707336\n",
      "Finished epoch 76, training loss: 0.5569928126250681, validation loss: 0.6192395431654794\n",
      "Finished epoch 77, training loss: 0.5567186800178122, validation loss: 0.6189556632723127\n",
      "Finished epoch 78, training loss: 0.5559810652441065, validation loss: 0.6194462094988141\n",
      "Finished epoch 79, training loss: 0.5557837814524553, validation loss: 0.6187823755400521\n",
      "Finished epoch 80, training loss: 0.5553534952338767, validation loss: 0.6189458114760262\n",
      "Finished epoch 81, training loss: 0.5548261003793725, validation loss: 0.6191199847630092\n",
      "Finished epoch 82, training loss: 0.5544089480106765, validation loss: 0.6193108899252755\n",
      "Finished epoch 83, training loss: 0.5541016750289622, validation loss: 0.6190820762089321\n",
      "Finished epoch 84, training loss: 0.5534928749148972, validation loss: 0.6190040537289211\n",
      "Finished epoch 85, training loss: 0.5532709850589242, validation loss: 0.6191228968756539\n",
      "Finished epoch 86, training loss: 0.5526828614218031, validation loss: 0.6189408557755607\n",
      "Finished epoch 87, training loss: 0.5524095532014942, validation loss: 0.6192223089081901\n",
      "Finished epoch 88, training loss: 0.5518895544099731, validation loss: 0.6191584893635341\n",
      "Finished epoch 89, training loss: 0.5515958014125794, validation loss: 0.6187246271542141\n",
      "Finished epoch 90, training loss: 0.5510256515033003, validation loss: 0.6185701319149562\n",
      "Finished epoch 91, training loss: 0.5507248515284195, validation loss: 0.618770922933306\n",
      "Finished epoch 92, training loss: 0.5503636051491263, validation loss: 0.6187592489378793\n",
      "Finished epoch 93, training loss: 0.5497804865744955, validation loss: 0.6186501809528896\n",
      "Finished epoch 94, training loss: 0.5495273803935151, validation loss: 0.6190363339015416\n",
      "Finished epoch 95, training loss: 0.5491763348548693, validation loss: 0.6190190485545567\n",
      "Finished epoch 96, training loss: 0.5486294783639831, validation loss: 0.618821280343192\n",
      "Finished epoch 97, training loss: 0.5481680248670532, validation loss: 0.6187018241201129\n",
      "Finished epoch 98, training loss: 0.5481536290495868, validation loss: 0.6190432991300311\n",
      "Finished epoch 99, training loss: 0.5472846179960622, validation loss: 0.6188260401998248\n",
      "Finished epoch 100, training loss: 0.5471715287885804, validation loss: 0.618606414113726\n"
     ]
    }
   ],
   "source": [
    "n_epochs = 100\n",
    "batch_size = 50\n",
    "train_loss_graph = []\n",
    "val_loss_graph = []\n",
    "\n",
    "#training and validation loop\n",
    "\n",
    "for epoch in range(n_epochs):\n",
    "    model.train() #setting model to train mode\n",
    "    epoch_train_loss = 0.0\n",
    "    for i in range(0, len(X_train), batch_size):\n",
    "        Xbatch = X_train[i:i+batch_size]\n",
    "        ybatch = y_train[i:i+batch_size]\n",
    "        optimizer.zero_grad()\n",
    "        y_pred = model(Xbatch)\n",
    "        loss = loss_fn(y_pred, ybatch)\n",
    "        loss.backward()\n",
    "        optimizer.step()\n",
    "        epoch_train_loss += loss.item() * len(Xbatch)  # Accumulate the loss for all batches in current epoch\n",
    "\n",
    "    epoch_train_loss /= len(X_train)  # Average loss for the entire epoch\n",
    "    train_loss_graph.append(epoch_train_loss)\n",
    "\n",
    "    model.eval()  #setting model to inference mode\n",
    "    epoch_val_loss = 0.0\n",
    "    with torch.no_grad():\n",
    "        for i in range(0, len(X_val), batch_size):\n",
    "            Xbatch = X_val[i:i+batch_size]\n",
    "            ybatch = y_val[i:i+batch_size]\n",
    "            y_pred = model(Xbatch)\n",
    "            val_loss = loss_fn(y_pred, ybatch)\n",
    "            epoch_val_loss += val_loss.item() * len(Xbatch)  \n",
    "\n",
    "    epoch_val_loss /= len(X_val)  \n",
    "    val_loss_graph.append(epoch_val_loss)\n",
    "\n",
    "    print(f'Finished epoch {epoch+1}, training loss: {epoch_train_loss}, validation loss: {epoch_val_loss}')\n"
   ]
  },
  {
   "cell_type": "code",
   "execution_count": 10,
   "id": "ef9bdb3e-320d-4691-965c-0fe6b5c109a0",
   "metadata": {},
   "outputs": [],
   "source": [
    "\n",
    "def plot_graph(train_loss_graph,val_loss_graph):\n",
    "    # plot training and validation loss over epochs\n",
    "    plt.figure(figsize=(12, 4))\n",
    "    plt.subplot(1,2,1)\n",
    "    plt.plot(train_loss_graph, label='Training loss')\n",
    "    plt.plot(val_loss_graph, label='Validation loss')\n",
    "    plt.xlabel('Epoch')\n",
    "    plt.ylabel('Loss')\n",
    "    plt.legend()\n",
    "    plt.title('Training and Validation Loss over Epochs')\n",
    "    plt.show()\n",
    "   "
   ]
  },
  {
   "cell_type": "code",
   "execution_count": 11,
   "id": "fc0621be-c9d6-44d3-8bb3-e59f69c1893e",
   "metadata": {},
   "outputs": [
    {
     "data": {
      "image/png": "[encoded data removed]",
      "text/plain": [
       "<Figure size 1200x400 with 1 Axes>"
      ]
     },
     "metadata": {},
     "output_type": "display_data"
    }
   ],
   "source": [
    "plot_graph(train_loss_graph,val_loss_graph)"
   ]
  },
  {
   "cell_type": "markdown",
   "id": "2f1252e9-cc4c-42b2-a0fc-46b3a70d7238",
   "metadata": {},
   "source": [
    "*Evaluation on test data*"
   ]
  },
  {
   "cell_type": "code",
   "execution_count": 55,
   "id": "94d27163-ab61-4be6-9bd0-892b307d48b3",
   "metadata": {},
   "outputs": [
    {
     "name": "stdout",
     "output_type": "stream",
     "text": [
      "Accuracy 74.0259780883789\n",
      "Predicted labels vs. Expected labels:\n",
      "Predicted label: 1.0, Expected label: 1.0\n",
      "Predicted label: 0.0, Expected label: 0.0\n",
      "Predicted label: 0.0, Expected label: 0.0\n",
      "Predicted label: 1.0, Expected label: 1.0\n",
      "Predicted label: 0.0, Expected label: 0.0\n",
      "Predicted label: 0.0, Expected label: 0.0\n",
      "Predicted label: 1.0, Expected label: 1.0\n",
      "Predicted label: 1.0, Expected label: 1.0\n",
      "Predicted label: 1.0, Expected label: 0.0\n",
      "Predicted label: 0.0, Expected label: 0.0\n"
     ]
    }
   ],
   "source": [
    "#computing accuracy on test data\n",
    "model.eval()\n",
    "with torch.no_grad():\n",
    "    y_pred = model(X_test)\n",
    " accuracy = (y_pred.round() == y_test).float().mean()\n",
    "print(f\"Accuracy {accuracy*100}\")\n",
    "\n",
    "print(\"Predicted labels vs. Expected labels:\")\n",
    "for i in range(10):\n",
    "    print(f'Predicted label: {y_pred[i].round().item()}, Expected label: {y_test[i].item()}')"
   ]
  },
  {
   "cell_type": "code",
   "execution_count": 56,
   "id": "05927cd3-fbe2-42a1-8803-6a3c43f14232",
   "metadata": {},
   "outputs": [
    {
     "data": {
      "image/png": "[encoded data removed]",
      "text/plain": [
       "<Figure size 600x400 with 2 Axes>"
      ]
     },
     "metadata": {},
     "output_type": "display_data"
    }
   ],
   "source": [
    "#confusion matrix\n",
    "\n",
    "predictions_mat = []\n",
    "with torch.no_grad():\n",
    "    for data in X_test:\n",
    "        y_pred = model(data)\n",
    "        predictions_mat.append(y_pred.round().item())\n",
    "\n",
    "cm = confusion_matrix(y_test, predictions_mat)\n",
    "plt.figure(figsize=(6, 4))\n",
    "sns.heatmap(cm, annot=True, fmt='d', cmap='Blues')\n",
    "plt.xlabel('Actual')\n",
    "plt.ylabel('Predicted')\n",
    "plt.title('Confusion Matrix')\n",
    "plt.show()"
   ]
  },
  {
   "cell_type": "markdown",
   "id": "66813cf5-ce8b-4ad8-a695-34012d01bec3",
   "metadata": {},
   "source": [
    "**Model training with data augmentation**"
   ]
  },
  {
   "cell_type": "code",
   "execution_count": 57,
   "id": "9c428087-bacf-4ec5-bf14-f578af4d446b",
   "metadata": {},
   "outputs": [],
   "source": [
    "def augment_with_gaussian_noise(data, labels, num_times, mean=0, std=0.2):\n",
    "    augmented_data = []\n",
    "    augmented_labels = []\n",
    "    for _ in range(num_times):\n",
    "        noisy_data = data.clone()  \n",
    "        noise = torch.randn_like(noisy_data) * std + mean  \n",
    "        noisy_data += noise  \n",
    "        augmented_data.append(noisy_data)\n",
    "        augmented_labels.append(labels)\n",
    "    return torch.cat(augmented_data, dim=0), torch.cat(augmented_labels, dim=0)\n",
    "a,b = augment_with_gaussian_noise(X_train.clone(), y_train.clone(), num_times=3)"
   ]
  },
  {
   "cell_type": "code",
   "execution_count": 58,
   "id": "6297cc1a-9406-43c0-99e5-9b8058091fdb",
   "metadata": {},
   "outputs": [
    {
     "data": {
      "text/plain": [
       "torch.Size([1863, 8])"
      ]
     },
     "execution_count": 58,
     "metadata": {},
     "output_type": "execute_result"
    }
   ],
   "source": [
    "a.size()"
   ]
  },
  {
   "cell_type": "code",
   "execution_count": 59,
   "id": "36ae000f-e6dd-41c6-b3a6-882d005dff89",
   "metadata": {},
   "outputs": [],
   "source": [
    "model_aug = PimaClassifier()\n",
    "loss_fn = nn.BCELoss()  \n",
    "optimizer_aug = optim.Adam(model_aug.parameters(), lr=0.001)\n"
   ]
  },
  {
   "cell_type": "code",
   "execution_count": 60,
   "id": "08961ae2-2030-49d5-8ddd-6c10354d3a9b",
   "metadata": {
    "scrolled": true
   },
   "outputs": [
    {
     "name": "stdout",
     "output_type": "stream",
     "text": [
      "Finished epoch 1, training loss: 3.144652481176363, validation loss: 2.1756861209869385\n",
      "Finished epoch 2, training loss: 1.6758880241545566, validation loss: 1.0915546417236328\n",
      "Finished epoch 3, training loss: 0.8201851385355123, validation loss: 0.6900036334991455\n",
      "Finished epoch 4, training loss: 0.6607773133778022, validation loss: 0.6546226143836975\n",
      "Finished epoch 5, training loss: 0.6212341952439092, validation loss: 0.6569547653198242\n",
      "Finished epoch 6, training loss: 0.6088145498428303, validation loss: 0.6492992043495178\n",
      "Finished epoch 7, training loss: 0.600756006124387, validation loss: 0.6472657918930054\n",
      "Finished epoch 8, training loss: 0.5934265543553244, validation loss: 0.6427479982376099\n",
      "Finished epoch 9, training loss: 0.5868727024114714, validation loss: 0.6390079259872437\n",
      "Finished epoch 10, training loss: 0.5817868780590678, validation loss: 0.6403422951698303\n",
      "Finished epoch 11, training loss: 0.5777471988865335, validation loss: 0.6409605145454407\n",
      "Finished epoch 12, training loss: 0.5741181800714822, validation loss: 0.6406877636909485\n",
      "Finished epoch 13, training loss: 0.5714697662183053, validation loss: 0.6398481130599976\n",
      "Finished epoch 14, training loss: 0.5689508102942205, validation loss: 0.6389887928962708\n",
      "Finished epoch 15, training loss: 0.5666911479803547, validation loss: 0.6389750242233276\n",
      "Finished epoch 16, training loss: 0.5646788542525332, validation loss: 0.6390414834022522\n",
      "Finished epoch 17, training loss: 0.562799011995507, validation loss: 0.6388291120529175\n",
      "Finished epoch 18, training loss: 0.5611705426816587, validation loss: 0.6398952007293701\n",
      "Finished epoch 19, training loss: 0.5596843427761997, validation loss: 0.6405732035636902\n",
      "Finished epoch 20, training loss: 0.5582843430568246, validation loss: 0.6413066387176514\n",
      "Finished epoch 21, training loss: 0.5568947356616177, validation loss: 0.6426358819007874\n",
      "Finished epoch 22, training loss: 0.5555634145383481, validation loss: 0.643570065498352\n",
      "Finished epoch 23, training loss: 0.554382531763211, validation loss: 0.6445783972740173\n",
      "Finished epoch 24, training loss: 0.5532892560741304, validation loss: 0.6455441117286682\n",
      "Finished epoch 25, training loss: 0.5521339174885936, validation loss: 0.6469058990478516\n",
      "Finished epoch 26, training loss: 0.5510188963422197, validation loss: 0.6464357972145081\n",
      "Finished epoch 27, training loss: 0.5497933433891559, validation loss: 0.6470887064933777\n",
      "Finished epoch 28, training loss: 0.5487295000129532, validation loss: 0.647924542427063\n",
      "Finished epoch 29, training loss: 0.5477445726425367, validation loss: 0.6484391093254089\n",
      "Finished epoch 30, training loss: 0.5467747899069302, validation loss: 0.6491782069206238\n",
      "Finished epoch 31, training loss: 0.5458382825600608, validation loss: 0.6494306921958923\n",
      "Finished epoch 32, training loss: 0.5448908373609513, validation loss: 0.6493527889251709\n",
      "Finished epoch 33, training loss: 0.5438347038119568, validation loss: 0.6494866609573364\n",
      "Finished epoch 34, training loss: 0.542830747746679, validation loss: 0.6490753293037415\n",
      "Finished epoch 35, training loss: 0.5418651931655708, validation loss: 0.6492704153060913\n",
      "Finished epoch 36, training loss: 0.5407327581526961, validation loss: 0.649499237537384\n",
      "Finished epoch 37, training loss: 0.5394834681857483, validation loss: 0.6509159803390503\n",
      "Finished epoch 38, training loss: 0.5382981721393792, validation loss: 0.6502467393875122\n",
      "Finished epoch 39, training loss: 0.537163357803787, validation loss: 0.6498183608055115\n",
      "Finished epoch 40, training loss: 0.535382988628238, validation loss: 0.6487739086151123\n",
      "Finished epoch 41, training loss: 0.5340734355499587, validation loss: 0.6465729475021362\n",
      "Finished epoch 42, training loss: 0.5321380145051949, validation loss: 0.6453902125358582\n",
      "Finished epoch 43, training loss: 0.5308907723401224, validation loss: 0.6455720067024231\n",
      "Finished epoch 44, training loss: 0.5298744197564936, validation loss: 0.646755039691925\n",
      "Finished epoch 45, training loss: 0.5289272119201643, validation loss: 0.6472325921058655\n",
      "Finished epoch 46, training loss: 0.5279366119344325, validation loss: 0.6481755971908569\n",
      "Finished epoch 47, training loss: 0.5270453903922072, validation loss: 0.6508474349975586\n",
      "Finished epoch 48, training loss: 0.5260171705653958, validation loss: 0.6502475142478943\n",
      "Finished epoch 49, training loss: 0.5249941340391187, validation loss: 0.651187539100647\n",
      "Finished epoch 50, training loss: 0.5238866628144162, validation loss: 0.6510542631149292\n",
      "Finished epoch 51, training loss: 0.5225053897674405, validation loss: 0.6516973376274109\n",
      "Finished epoch 52, training loss: 0.5208955994870672, validation loss: 0.6547576189041138\n",
      "Finished epoch 53, training loss: 0.5196121976187456, validation loss: 0.6563045978546143\n",
      "Finished epoch 54, training loss: 0.5186932095902873, validation loss: 0.6587876081466675\n",
      "Finished epoch 55, training loss: 0.5176194951346147, validation loss: 0.658730685710907\n",
      "Finished epoch 56, training loss: 0.5165468025322698, validation loss: 0.6591070890426636\n",
      "Finished epoch 57, training loss: 0.5155402710216377, validation loss: 0.6595414280891418\n",
      "Finished epoch 58, training loss: 0.5145464662384488, validation loss: 0.6576605439186096\n",
      "Finished epoch 59, training loss: 0.5134658989762978, validation loss: 0.6601059436798096\n",
      "Finished epoch 60, training loss: 0.5122640538266827, validation loss: 0.6599550247192383\n",
      "Finished epoch 61, training loss: 0.5112536959730036, validation loss: 0.6602805852890015\n",
      "Finished epoch 62, training loss: 0.5101358963479551, validation loss: 0.6603922247886658\n",
      "Finished epoch 63, training loss: 0.5092809311625655, validation loss: 0.6618788838386536\n",
      "Finished epoch 64, training loss: 0.5084422060193007, validation loss: 0.6634083390235901\n",
      "Finished epoch 65, training loss: 0.5073654217804495, validation loss: 0.6603343486785889\n",
      "Finished epoch 66, training loss: 0.5065675156447943, validation loss: 0.6629781126976013\n",
      "Finished epoch 67, training loss: 0.5057883980257564, validation loss: 0.6642689108848572\n",
      "Finished epoch 68, training loss: 0.5050960660812616, validation loss: 0.6664115786552429\n",
      "Finished epoch 69, training loss: 0.5040911808170047, validation loss: 0.6647272109985352\n",
      "Finished epoch 70, training loss: 0.5032119916065112, validation loss: 0.663848340511322\n",
      "Finished epoch 71, training loss: 0.5023960167851041, validation loss: 0.6660665273666382\n",
      "Finished epoch 72, training loss: 0.5016652250315512, validation loss: 0.6651086807250977\n",
      "Finished epoch 73, training loss: 0.5008916708006375, validation loss: 0.6649351119995117\n",
      "Finished epoch 74, training loss: 0.5000034820246427, validation loss: 0.6663089990615845\n",
      "Finished epoch 75, training loss: 0.4993679916353169, validation loss: 0.6666498184204102\n",
      "Finished epoch 76, training loss: 0.49868041427303117, validation loss: 0.6696630120277405\n",
      "Finished epoch 77, training loss: 0.4978670320457115, validation loss: 0.6684525609016418\n",
      "Finished epoch 78, training loss: 0.4970902165161047, validation loss: 0.6703740358352661\n",
      "Finished epoch 79, training loss: 0.49644707091316637, validation loss: 0.6718417406082153\n",
      "Finished epoch 80, training loss: 0.49550436804260034, validation loss: 0.6702296733856201\n",
      "Finished epoch 81, training loss: 0.4947563745101421, validation loss: 0.6708455681800842\n",
      "Finished epoch 82, training loss: 0.49419097803129153, validation loss: 0.6738884449005127\n",
      "Finished epoch 83, training loss: 0.4934542364032436, validation loss: 0.6749303340911865\n",
      "Finished epoch 84, training loss: 0.49264054431495524, validation loss: 0.6764169931411743\n",
      "Finished epoch 85, training loss: 0.4918007847767521, validation loss: 0.673069417476654\n",
      "Finished epoch 86, training loss: 0.49089743562494625, validation loss: 0.6736372709274292\n",
      "Finished epoch 87, training loss: 0.4900758190943359, validation loss: 0.6748171448707581\n",
      "Finished epoch 88, training loss: 0.48928011151583556, validation loss: 0.6743271946907043\n",
      "Finished epoch 89, training loss: 0.48840293350619013, validation loss: 0.6765475869178772\n",
      "Finished epoch 90, training loss: 0.48757166121508955, validation loss: 0.6768550276756287\n",
      "Finished epoch 91, training loss: 0.48640490461278846, validation loss: 0.6785939335823059\n",
      "Finished epoch 92, training loss: 0.4853280806055136, validation loss: 0.6781082153320312\n",
      "Finished epoch 93, training loss: 0.48440076027643403, validation loss: 0.6809768676757812\n",
      "Finished epoch 94, training loss: 0.48366371848157064, validation loss: 0.6823540329933167\n",
      "Finished epoch 95, training loss: 0.48273886190712356, validation loss: 0.6844271421432495\n",
      "Finished epoch 96, training loss: 0.48199349369851735, validation loss: 0.6883249282836914\n",
      "Finished epoch 97, training loss: 0.4810426786773895, validation loss: 0.6881140470504761\n",
      "Finished epoch 98, training loss: 0.48018386174579236, validation loss: 0.687576413154602\n",
      "Finished epoch 99, training loss: 0.4794687821669279, validation loss: 0.6873652935028076\n",
      "Finished epoch 100, training loss: 0.4785150997560637, validation loss: 0.6850380897521973\n",
      "Finished epoch 101, training loss: 0.477797012878117, validation loss: 0.689821720123291\n",
      "Finished epoch 102, training loss: 0.4768714180763089, validation loss: 0.6887800693511963\n",
      "Finished epoch 103, training loss: 0.4761813874213976, validation loss: 0.6888548731803894\n",
      "Finished epoch 104, training loss: 0.4754296664390523, validation loss: 0.6862780451774597\n",
      "Finished epoch 105, training loss: 0.47464325283396586, validation loss: 0.6910430192947388\n",
      "Finished epoch 106, training loss: 0.4739484756273156, validation loss: 0.6797519326210022\n",
      "Finished epoch 107, training loss: 0.47288374992320437, validation loss: 0.684666633605957\n",
      "Finished epoch 108, training loss: 0.4718719395462442, validation loss: 0.6816869378089905\n",
      "Finished epoch 109, training loss: 0.4706803861959481, validation loss: 0.6804577708244324\n",
      "Finished epoch 110, training loss: 0.4696185220266886, validation loss: 0.678195059299469\n",
      "Finished epoch 111, training loss: 0.4688009351923846, validation loss: 0.6782515645027161\n",
      "Finished epoch 112, training loss: 0.468358719918399, validation loss: 0.6796208620071411\n",
      "Finished epoch 113, training loss: 0.46719529845672336, validation loss: 0.6789059042930603\n",
      "Finished epoch 114, training loss: 0.46635950040382146, validation loss: 0.6795541048049927\n",
      "Finished epoch 115, training loss: 0.46552190237383145, validation loss: 0.6807197332382202\n",
      "Finished epoch 116, training loss: 0.46493818631302714, validation loss: 0.6799540519714355\n",
      "Finished epoch 117, training loss: 0.46388656150507657, validation loss: 0.6823999881744385\n",
      "Finished epoch 118, training loss: 0.46316327325003925, validation loss: 0.6829701066017151\n",
      "Finished epoch 119, training loss: 0.4623616022636221, validation loss: 0.6837608218193054\n",
      "Finished epoch 120, training loss: 0.4616653396439565, validation loss: 0.6853213906288147\n",
      "Finished epoch 121, training loss: 0.4609966370538557, validation loss: 0.6875253915786743\n",
      "Finished epoch 122, training loss: 0.4603395044515674, validation loss: 0.6861063241958618\n",
      "Finished epoch 123, training loss: 0.45965370908579517, validation loss: 0.6881088018417358\n",
      "Finished epoch 124, training loss: 0.45898292781970096, validation loss: 0.6865236163139343\n",
      "Finished epoch 125, training loss: 0.4582828005602842, validation loss: 0.6906992197036743\n",
      "Finished epoch 126, training loss: 0.4576695144528416, validation loss: 0.6908469796180725\n",
      "Finished epoch 127, training loss: 0.45692344960895076, validation loss: 0.6926328539848328\n",
      "Finished epoch 128, training loss: 0.45609554432440497, validation loss: 0.6935818195343018\n",
      "Finished epoch 129, training loss: 0.45554213356216683, validation loss: 0.6935714483261108\n",
      "Finished epoch 130, training loss: 0.4548413350706259, validation loss: 0.6949557662010193\n",
      "Finished epoch 131, training loss: 0.4542308305772606, validation loss: 0.6949154138565063\n",
      "Finished epoch 132, training loss: 0.4535707985273434, validation loss: 0.696806788444519\n",
      "Finished epoch 133, training loss: 0.4528140150854425, validation loss: 0.6977357268333435\n",
      "Finished epoch 134, training loss: 0.45232394505622114, validation loss: 0.6975773572921753\n",
      "Finished epoch 135, training loss: 0.45162770224078264, validation loss: 0.6986039876937866\n",
      "Finished epoch 136, training loss: 0.4508791733223203, validation loss: 0.7005510926246643\n",
      "Finished epoch 137, training loss: 0.4503328193277041, validation loss: 0.7001587748527527\n",
      "Finished epoch 138, training loss: 0.44979506667045516, validation loss: 0.7016519904136658\n",
      "Finished epoch 139, training loss: 0.44912913785592495, validation loss: 0.7007559537887573\n",
      "Finished epoch 140, training loss: 0.448540382915073, validation loss: 0.702401876449585\n",
      "Finished epoch 141, training loss: 0.4480158442204445, validation loss: 0.7013444900512695\n",
      "Finished epoch 142, training loss: 0.4475551288548939, validation loss: 0.705028235912323\n",
      "Finished epoch 143, training loss: 0.4467841476377978, validation loss: 0.7024968862533569\n",
      "Finished epoch 144, training loss: 0.4462493054980689, validation loss: 0.7054290175437927\n",
      "Finished epoch 145, training loss: 0.44550941496591573, validation loss: 0.7050382494926453\n",
      "Finished epoch 146, training loss: 0.44496424055457817, validation loss: 0.7036336064338684\n",
      "Finished epoch 147, training loss: 0.4442773863825181, validation loss: 0.7078921794891357\n",
      "Finished epoch 148, training loss: 0.44370309297461313, validation loss: 0.710885763168335\n",
      "Finished epoch 149, training loss: 0.4430038635921427, validation loss: 0.7090834379196167\n",
      "Finished epoch 150, training loss: 0.44234098382874065, validation loss: 0.7118522524833679\n",
      "Finished epoch 151, training loss: 0.4417871601531663, validation loss: 0.7096970677375793\n",
      "Finished epoch 152, training loss: 0.4409822607577903, validation loss: 0.7114402651786804\n",
      "Finished epoch 153, training loss: 0.44070011306948004, validation loss: 0.713764488697052\n",
      "Finished epoch 154, training loss: 0.4398863903630247, validation loss: 0.7166597247123718\n",
      "Finished epoch 155, training loss: 0.4394553190780083, validation loss: 0.7175995111465454\n",
      "Finished epoch 156, training loss: 0.4387694791447265, validation loss: 0.7213519215583801\n",
      "Finished epoch 157, training loss: 0.4383311005798131, validation loss: 0.7218560576438904\n",
      "Finished epoch 158, training loss: 0.43748175598764955, validation loss: 0.7214751839637756\n",
      "Finished epoch 159, training loss: 0.4373881989951039, validation loss: 0.7230373620986938\n",
      "Finished epoch 160, training loss: 0.4367129689125495, validation loss: 0.729246973991394\n",
      "Finished epoch 161, training loss: 0.4360642525948828, validation loss: 0.7286592125892639\n",
      "Finished epoch 162, training loss: 0.43548285961151123, validation loss: 0.7289667129516602\n",
      "Finished epoch 163, training loss: 0.4351932246455952, validation loss: 0.7341413497924805\n",
      "Finished epoch 164, training loss: 0.43486708693778203, validation loss: 0.7354463934898376\n",
      "Finished epoch 165, training loss: 0.4338130282895001, validation loss: 0.7378689646720886\n",
      "Finished epoch 166, training loss: 0.43373854558313013, validation loss: 0.7349600791931152\n",
      "Finished epoch 167, training loss: 0.4330947460887641, validation loss: 0.7432360053062439\n",
      "Finished epoch 168, training loss: 0.4324634174025961, validation loss: 0.741357684135437\n",
      "Finished epoch 169, training loss: 0.43202444035969817, validation loss: 0.7476481795310974\n",
      "Finished epoch 170, training loss: 0.431491793833685, validation loss: 0.7483190894126892\n",
      "Finished epoch 171, training loss: 0.4308497272571824, validation loss: 0.7504863739013672\n",
      "Finished epoch 172, training loss: 0.43068764411948796, validation loss: 0.7548955082893372\n",
      "Finished epoch 173, training loss: 0.42961405421608695, validation loss: 0.7533936500549316\n",
      "Finished epoch 174, training loss: 0.4295230359398928, validation loss: 0.75972980260849\n",
      "Finished epoch 175, training loss: 0.4289035213870255, validation loss: 0.7577540874481201\n",
      "Finished epoch 176, training loss: 0.4284834683549321, validation loss: 0.7587745189666748\n",
      "Finished epoch 177, training loss: 0.42825588134431863, validation loss: 0.7662802338600159\n",
      "Finished epoch 178, training loss: 0.4276721313699752, validation loss: 0.7689599394798279\n",
      "Finished epoch 179, training loss: 0.4272110174883455, validation loss: 0.7706457376480103\n",
      "Finished epoch 180, training loss: 0.4268357871811171, validation loss: 0.7726086974143982\n",
      "Finished epoch 181, training loss: 0.4264685182371769, validation loss: 0.7735729813575745\n",
      "Finished epoch 182, training loss: 0.42597869952007833, validation loss: 0.7746680974960327\n",
      "Finished epoch 183, training loss: 0.4253857742377141, validation loss: 0.7747257351875305\n",
      "Finished epoch 184, training loss: 0.4252238204513771, validation loss: 0.778464138507843\n",
      "Finished epoch 185, training loss: 0.42489518318775193, validation loss: 0.7813202738761902\n",
      "Finished epoch 186, training loss: 0.4243344961157168, validation loss: 0.7833649516105652\n",
      "Finished epoch 187, training loss: 0.42401860250431045, validation loss: 0.7852955460548401\n",
      "Finished epoch 188, training loss: 0.4235013537168887, validation loss: 0.783444344997406\n",
      "Finished epoch 189, training loss: 0.4233541337956169, validation loss: 0.7864106297492981\n",
      "Finished epoch 190, training loss: 0.4228421107966351, validation loss: 0.7901315689086914\n",
      "Finished epoch 191, training loss: 0.4222934649826312, validation loss: 0.7879232168197632\n",
      "Finished epoch 192, training loss: 0.4220835362079639, validation loss: 0.7920027375221252\n",
      "Finished epoch 193, training loss: 0.42168631834556386, validation loss: 0.7967187166213989\n",
      "Finished epoch 194, training loss: 0.42124804811201233, validation loss: 0.795303225517273\n",
      "Finished epoch 195, training loss: 0.42121812283704824, validation loss: 0.7995120286941528\n",
      "Finished epoch 196, training loss: 0.4207668622462774, validation loss: 0.8002555966377258\n",
      "Finished epoch 197, training loss: 0.4198448718777921, validation loss: 0.7999498844146729\n",
      "Finished epoch 198, training loss: 0.4201952553345705, validation loss: 0.7950122356414795\n",
      "Finished epoch 199, training loss: 0.41938794561438325, validation loss: 0.8014138340950012\n",
      "Finished epoch 200, training loss: 0.4192428378027354, validation loss: 0.8035058379173279\n"
     ]
    }
   ],
   "source": [
    "n_epochs = 200\n",
    "batch_size = 100\n",
    "train_loss_graph_aug = []\n",
    "val_loss_graph_aug = []\n",
    "\n",
    "for epoch in range(n_epochs):\n",
    "    model_aug.train()\n",
    "    epoch_train_loss = 0.0\n",
    "    for i in range(0, len(a), batch_size):\n",
    "        Xbatch = a[i:i+batch_size]\n",
    "        ybatch = b[i:i+batch_size]\n",
    "        optimizer_aug.zero_grad()\n",
    "        y_pred = model_aug(Xbatch)\n",
    "        loss = loss_fn(y_pred, ybatch)\n",
    "        loss.backward()\n",
    "        optimizer_aug.step()\n",
    "        epoch_train_loss += loss.item() * len(Xbatch)  \n",
    "\n",
    "    epoch_train_loss /= len(a)  \n",
    "    train_loss_graph_aug.append(epoch_train_loss)\n",
    "\n",
    "    model_aug.eval()\n",
    "    epoch_val_loss = 0.0\n",
    "    with torch.no_grad():\n",
    "        for i in range(0, len(X_val), batch_size):\n",
    "            Xbatch = X_val[i:i+batch_size]\n",
    "            ybatch = y_val[i:i+batch_size]\n",
    "            y_pred = model_aug(Xbatch)\n",
    "            val_loss = loss_fn(y_pred, ybatch)\n",
    "            epoch_val_loss += val_loss.item() * len(Xbatch)  \n",
    "\n",
    "    epoch_val_loss /= len(X_val)  \n",
    "    val_loss_graph_aug.append(epoch_val_loss)\n",
    "\n",
    "    print(f'Finished epoch {epoch+1}, training loss: {epoch_train_loss}, validation loss: {epoch_val_loss}')\n"
   ]
  },
  {
   "cell_type": "code",
   "execution_count": 61,
   "id": "1db5b40b-304c-4146-b0b1-e81d7a6d41ce",
   "metadata": {},
   "outputs": [
    {
     "data": {
      "image/png": "[encoded data removed]",
      "text/plain": [
       "<Figure size 1200x400 with 1 Axes>"
      ]
     },
     "metadata": {},
     "output_type": "display_data"
    }
   ],
   "source": [
    "plot_graph(train_loss_graph_aug,val_loss_graph_aug)"
   ]
  },
  {
   "cell_type": "code",
   "execution_count": 63,
   "id": "ea4b79e5-9aa8-436b-8075-e9d37961fc2e",
   "metadata": {},
   "outputs": [
    {
     "name": "stdout",
     "output_type": "stream",
     "text": [
      "Test accuracy 81.81818389892578\n",
      "Predicted labels vs. Expected labels:\n",
      "Predicted label: 1.0, Expected label: 1.0\n",
      "Predicted label: 0.0, Expected label: 0.0\n",
      "Predicted label: 0.0, Expected label: 0.0\n",
      "Predicted label: 1.0, Expected label: 1.0\n",
      "Predicted label: 0.0, Expected label: 0.0\n",
      "Predicted label: 0.0, Expected label: 0.0\n",
      "Predicted label: 1.0, Expected label: 1.0\n",
      "Predicted label: 1.0, Expected label: 1.0\n",
      "Predicted label: 1.0, Expected label: 0.0\n",
      "Predicted label: 0.0, Expected label: 0.0\n"
     ]
    }
   ],
   "source": [
    "model_aug.eval()\n",
    "with torch.no_grad():\n",
    "    y_pred = model_aug(X_test)\n",
    "    \n",
    "test_accuracy = (y_pred.round() == y_test).float().mean()\n",
    "print(f\"Test accuracy {test_accuracy*100}\")\n",
    "\n",
    "print(\"Predicted labels vs. Expected labels:\")\n",
    "for i in range(10):\n",
    "    print(f'Predicted label: {y_pred[i].round().item()}, Expected label: {y_test[i].item()}')"
   ]
  },
  {
   "cell_type": "code",
   "execution_count": 64,
   "id": "d41512bc-82db-4e5d-ba41-626c17c93aea",
   "metadata": {},
   "outputs": [
    {
     "data": {
      "image/png": "[encoded data removed]",
      "text/plain": [
       "<Figure size 600x400 with 2 Axes>"
      ]
     },
     "metadata": {},
     "output_type": "display_data"
    }
   ],
   "source": [
    "#confusion matrix\n",
    "predictions_mat1 = []\n",
    "with torch.no_grad():\n",
    "    for data in X_test:\n",
    "        y_pred = model_aug(data)\n",
    "        predictions_mat1.append(y_pred.round().item())\n",
    "\n",
    "cm1 = confusion_matrix(y_test, predictions_mat1)\n",
    "plt.figure(figsize=(6, 4))\n",
    "sns.heatmap(cm1, annot=True, fmt='d', cmap='Blues')\n",
    "plt.xlabel('Actual')\n",
    "plt.ylabel('Predicted')\n",
    "plt.title('Confusion Matrix')\n",
    "plt.show()"
   ]
  },
  {
   "cell_type": "code",
   "execution_count": null,
   "id": "fd973c71-fffa-40ca-88db-1ac793c7b6ab",
   "metadata": {},
   "outputs": [],
   "source": []
  }
 ],
 "metadata": {
  "kernelspec": {
   "display_name": "Python 3 (ipykernel)",
   "language": "python",
   "name": "python3"
  },
  "language_info": {
   "codemirror_mode": {
    "name": "ipython",
    "version": 3
   },
   "file_extension": ".py",
   "mimetype": "text/x-python",
   "name": "python",
   "nbconvert_exporter": "python",
   "pygments_lexer": "ipython3",
   "version": "3.12.3"
  }
 },
 "nbformat": 4,
 "nbformat_minor": 5
}
